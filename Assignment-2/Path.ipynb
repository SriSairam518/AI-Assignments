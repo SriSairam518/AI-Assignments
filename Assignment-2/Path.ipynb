{
 "cells": [
  {
   "cell_type": "markdown",
   "id": "a1204763",
   "metadata": {},
   "source": [
    "### You are given an n × n binary matrix grid. Your task is to implement and compare two search algorithms to find a path from the top-left cell (0, 0) to the bottom-right cell (n- 1, n - 1).\n",
    " A clear path is defined as:\n",
    " \n",
    " 1. All visited cells along the path must have a value of 0.\n",
    "   2. Moves can be made 8-directionally — i.e., from a cell, you may move to another cell that is horizontally, vertically, or diagonally adjacent.\n",
    "   3. The length of the path is the total number of visited cells."
   ]
  },
  {
   "cell_type": "markdown",
   "id": "8569af05",
   "metadata": {},
   "source": [
    "# State"
   ]
  },
  {
   "cell_type": "code",
   "execution_count": 32,
   "id": "d986cf3b",
   "metadata": {
    "ExecuteTime": {
     "end_time": "2025-08-12T11:57:22.593100Z",
     "start_time": "2025-08-12T11:57:22.567175Z"
    },
    "hide_input": false
   },
   "outputs": [],
   "source": [
    "class State:\n",
    "    def __init__(self, grid, i, j,visited):\n",
    "        self.grid = grid\n",
    "        self.n = len(grid)\n",
    "        self.i = i\n",
    "        self.j = j\n",
    "        self.visited = visited\n",
    "\n",
    "    def goalTest(self):\n",
    "        return self.i == self.n - 1 and self.j == self.n - 1\n",
    "\n",
    "    def moveGen(self):\n",
    "        children = []\n",
    "\n",
    "        if self.grid[self.i][self.j]==1:\n",
    "            return []\n",
    "        \n",
    "        if (0, 0) not in self.visited and self.grid[0][0]==0:\n",
    "            self.visited = self.visited + [(0, 0)]\n",
    "\n",
    "        directions = [(1, 1), (1, -1), (-1, 1), (-1, -1), (1, 0), (0, 1),\n",
    "                      (0, -1), (-1, 0)]\n",
    "        \n",
    "        for dr, dc in directions:\n",
    "            new_i = self.i + dr\n",
    "            new_j = self.j + dc\n",
    "            if 0 <= new_i < self.n and 0 <= new_j < self.n and self.grid[new_i][new_j] == 0 and (new_i, new_j) not in self.visited:\n",
    "                new_visited = self.visited + [(new_i, new_j)]\n",
    "                children.append(State(self.grid, new_i, new_j, new_visited))\n",
    "        return children\n",
    "\n",
    "    def __hash__(self):\n",
    "        return hash((self.i, self.j))\n",
    "\n",
    "    def __eq__(self, other):\n",
    "        return self.i == other.i and self.j == other.j\n",
    "\n",
    "    def __str__(self):\n",
    "        return f\"({self.i} , {self.j} )\"\n",
    "\n",
    "    #admissible\n",
    "#     def h(self):\n",
    "#         return len(self.visited)\n",
    "\n",
    "    #Euclidean or Manhattan distance to the goal\n",
    "    def h(self):\n",
    "        goal_i, goal_j = self.n - 1, self.n - 1\n",
    "        return abs(goal_i - self.i) + abs(goal_j - self.j)\n",
    "\n",
    "    def k_step_cost(self, m):\n",
    "        return 1"
   ]
  },
  {
   "cell_type": "markdown",
   "id": "c6e80b94",
   "metadata": {},
   "source": [
    "# Best First Search"
   ]
  },
  {
   "cell_type": "code",
   "execution_count": 33,
   "id": "9f26f29b",
   "metadata": {
    "ExecuteTime": {
     "end_time": "2025-08-12T11:57:23.309822Z",
     "start_time": "2025-08-12T11:57:23.302101Z"
    }
   },
   "outputs": [],
   "source": [
    "def removeseen(children,open,closed):\n",
    "    return [node for node in children if node not in open and node not in closed]\n",
    "\n",
    "def bfs(start):\n",
    "    open = [start]\n",
    "    closed = []\n",
    "    \n",
    "    while open:\n",
    "        N = min(open, key = lambda x : x.h())\n",
    "        open.remove(N)\n",
    "        \n",
    "        if N.goalTest():\n",
    "            return f\"Path Length: {len(N.visited)}, Path: {N.visited}\"\n",
    "        else:\n",
    "            closed.append(N)\n",
    "            children = N.moveGen()\n",
    "            new_child = removeseen(children,open,closed)\n",
    "            open = open + new_child\n",
    "    \n",
    "    return \"No Path Found\""
   ]
  },
  {
   "cell_type": "markdown",
   "id": "907d544c",
   "metadata": {},
   "source": [
    "# A* Search"
   ]
  },
  {
   "cell_type": "code",
   "execution_count": 34,
   "id": "29c6fe72",
   "metadata": {
    "ExecuteTime": {
     "end_time": "2025-08-12T11:57:23.808674Z",
     "start_time": "2025-08-12T11:57:23.791004Z"
    }
   },
   "outputs": [],
   "source": [
    "def improvePropagate(N,parent,g,f,closed):\n",
    "    for M in N.moveGen():\n",
    "        if g[N]+N.k_step_cost(M) < g.get(M,float('inf')):\n",
    "            parent[M] = N\n",
    "            g[M] = g[N]+N.k_step_cost(M)\n",
    "            f[M] = g[M]+M.h()\n",
    "            if M in closed:\n",
    "                improvePropagate(M,parent,g,f,closed)\n",
    "\n",
    "def a_star(start):\n",
    "    parent = {}\n",
    "    g = {}\n",
    "    f = {}\n",
    "    \n",
    "    open = [start]\n",
    "    closed = []\n",
    "    \n",
    "    parent[start] = None\n",
    "    g[start] = 0\n",
    "    f[start] = g[start]+start.h()\n",
    "    \n",
    "    while open:\n",
    "        N = min(open,key = lambda x: f[x])\n",
    "        open.remove(N)\n",
    "        \n",
    "        if N.goalTest():\n",
    "            return f\"Path Length: {len(N.visited)}, Path: {N.visited}\"\n",
    "        else:\n",
    "            closed.append(N)\n",
    "            for M in N.moveGen():\n",
    "                if g[N]+N.k_step_cost(M) < g.get(M,float('inf')): \n",
    "                    parent[M] = N\n",
    "                    g[M] = g[N]+N.k_step_cost(M)\n",
    "                    f[M] = g[M]+M.h()\n",
    "                    if M in open:\n",
    "                        continue\n",
    "                    elif M in closed:\n",
    "                        improvePropagate(M,parent,f,g,closed)\n",
    "                    else:\n",
    "                        open.append(M)\n",
    "    return \"No path found\""
   ]
  },
  {
   "cell_type": "markdown",
   "id": "47afa4c5",
   "metadata": {},
   "source": [
    "# Test Cases"
   ]
  },
  {
   "cell_type": "code",
   "execution_count": 35,
   "id": "d1e24150",
   "metadata": {
    "ExecuteTime": {
     "end_time": "2025-08-12T11:57:24.341956Z",
     "start_time": "2025-08-12T11:57:24.335540Z"
    }
   },
   "outputs": [],
   "source": [
    "grid1 = [\n",
    "    [0, 1],\n",
    "    [1, 0]\n",
    "]\n",
    "\n",
    "grid2 = [\n",
    "    [0, 0, 0],\n",
    "    [1, 1, 0],\n",
    "    [1, 1, 0]\n",
    "]\n",
    "\n",
    "grid3 = [\n",
    "    [1, 0, 0],\n",
    "    [1, 1, 0],\n",
    "    [1, 1, 0]\n",
    "]\n",
    "\n",
    "state1 = State(grid1,0,0,[])\n",
    "state2 = State(grid2,0,0,[])\n",
    "state3 = State(grid3,0,0,[])"
   ]
  },
  {
   "cell_type": "markdown",
   "id": "498699dc",
   "metadata": {},
   "source": [
    "# Output"
   ]
  },
  {
   "cell_type": "code",
   "execution_count": 36,
   "id": "61bb938d",
   "metadata": {
    "ExecuteTime": {
     "end_time": "2025-08-12T11:57:25.037625Z",
     "start_time": "2025-08-12T11:57:25.030573Z"
    }
   },
   "outputs": [
    {
     "name": "stdout",
     "output_type": "stream",
     "text": [
      "grid 1 : \n",
      "Best First Search -->  Path Length: 2, Path: [(0, 0), (1, 1)]\n",
      "A* Search -->  Path Length: 2, Path: [(0, 0), (1, 1)]\n",
      "\n",
      "grid 2 : \n",
      "Best First Search -->  Path Length: 4, Path: [(0, 0), (0, 1), (1, 2), (2, 2)]\n",
      "A* Search -->  Path Length: 4, Path: [(0, 0), (0, 1), (1, 2), (2, 2)]\n",
      "\n",
      "grid 3 : \n",
      "Best First Search -->  No Path Found\n",
      "A* Search -->  No path found\n"
     ]
    }
   ],
   "source": [
    "print(\"grid 1 : \")\n",
    "print(\"Best First Search --> \",bfs(state1))\n",
    "print(\"A* Search --> \",a_star(state1))\n",
    "\n",
    "print()\n",
    "\n",
    "print(\"grid 2 : \")\n",
    "print(\"Best First Search --> \",bfs(state2))\n",
    "print(\"A* Search --> \",a_star(state2))\n",
    "\n",
    "print()\n",
    "\n",
    "print(\"grid 3 : \")\n",
    "print(\"Best First Search --> \",bfs(state3))\n",
    "print(\"A* Search --> \",a_star(state3))"
   ]
  },
  {
   "cell_type": "markdown",
   "id": "a874bc56",
   "metadata": {
    "ExecuteTime": {
     "end_time": "2025-08-12T12:11:46.912085Z",
     "start_time": "2025-08-12T12:11:46.903794Z"
    }
   },
   "source": [
    "# Difference between BFS and A*\n",
    "\n",
    "- Best First Search relies only on the heuristic and making decisions based on how close a node appears to be to the goal.\n",
    "\n",
    "    - faster exploration.\n",
    "    - does not give optimal solution.\n",
    "    - less efficient\n",
    "\n",
    "\n",
    "- A Search*, combines the actual path cost with the heuristic. It balances progress toward the goal.\n",
    "\n",
    "    - slower than BFS\n",
    "    - gives optimal solution\n",
    "    - more efficient"
   ]
  }
 ],
 "metadata": {
  "hide_input": false,
  "kernelspec": {
   "display_name": "Python 3 (ipykernel)",
   "language": "python",
   "name": "python3"
  },
  "language_info": {
   "codemirror_mode": {
    "name": "ipython",
    "version": 3
   },
   "file_extension": ".py",
   "mimetype": "text/x-python",
   "name": "python",
   "nbconvert_exporter": "python",
   "pygments_lexer": "ipython3",
   "version": "3.11.5"
  },
  "toc": {
   "base_numbering": 1,
   "nav_menu": {},
   "number_sections": true,
   "sideBar": true,
   "skip_h1_title": false,
   "title_cell": "Table of Contents",
   "title_sidebar": "Contents",
   "toc_cell": false,
   "toc_position": {
    "height": "calc(100% - 180px)",
    "left": "10px",
    "top": "150px",
    "width": "165px"
   },
   "toc_section_display": true,
   "toc_window_display": false
  },
  "varInspector": {
   "cols": {
    "lenName": 16,
    "lenType": 16,
    "lenVar": 40
   },
   "kernels_config": {
    "python": {
     "delete_cmd_postfix": "",
     "delete_cmd_prefix": "del ",
     "library": "var_list.py",
     "varRefreshCmd": "print(var_dic_list())"
    },
    "r": {
     "delete_cmd_postfix": ") ",
     "delete_cmd_prefix": "rm(",
     "library": "var_list.r",
     "varRefreshCmd": "cat(var_dic_list()) "
    }
   },
   "types_to_exclude": [
    "module",
    "function",
    "builtin_function_or_method",
    "instance",
    "_Feature"
   ],
   "window_display": false
  }
 },
 "nbformat": 4,
 "nbformat_minor": 5
}
